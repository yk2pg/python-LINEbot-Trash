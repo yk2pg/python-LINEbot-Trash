{
 "cells": [
  {
   "cell_type": "code",
   "execution_count": 28,
   "id": "28a0de26",
   "metadata": {},
   "outputs": [],
   "source": [
    "#LINE notify\n",
    "import requests\n",
    "\n",
    "def send_line(text):\n",
    "    url ='https://notify-api.line.me/api/notify'\n",
    "    token = \"9fz9AoX9OnPNW2KGo2jFoYIbg8fMrMBl6KPWJXuXAi6\"\n",
    "    headers ={'Authorization' : 'Bearer ' + token}\n",
    "    message = text\n",
    "    payload = {'message' : message}\n",
    "    p = requests.post(url, headers=headers, data=payload)\n",
    "    print(p)\n"
   ]
  },
  {
   "cell_type": "code",
   "execution_count": 29,
   "id": "a59b5850",
   "metadata": {},
   "outputs": [],
   "source": [
    "#Messaging API\n",
    "import json\n",
    "from linebot import LineBotApi\n",
    "from linebot.models import TextSendMessage\n",
    "\n",
    "with open('secret.json', 'r') as f:\n",
    "    api = json.load(f) #secret.jsonからuser_IDとchannel_tokenを取得\n",
    "    \n",
    "bot_api = LineBotApi(api['access_token']) #インスタンス化\n",
    "\n",
    "def main():\n",
    "    user_id = api['userid'] #IDを取得\n",
    "    messages = TextSendMessage(text='Hello, world!') #LINEに送付するメッセージ\n",
    "    bot_api.push_message(user_id, messages=messages)\n",
    "    \n",
    "main() "
   ]
  },
  {
   "cell_type": "code",
   "execution_count": 30,
   "id": "06dc3dad",
   "metadata": {},
   "outputs": [
    {
     "name": "stdout",
     "output_type": "stream",
     "text": [
      "today: 2022-06-17 15:23:44.181344\n",
      "tomorrow: 2022-06-18 15:23:44.181344\n",
      "tom_nth_dow: (3, 5)\n"
     ]
    }
   ],
   "source": [
    "import calendar\n",
    "import datetime\n",
    "\n",
    "def get_nth_week(day):\n",
    "    return (day - 1) // 7 + 1\n",
    "\n",
    "def get_nth_dow(year, month, day):\n",
    "    return get_nth_week(day), calendar.weekday(year, month, day)\n",
    "\n",
    "today = datetime.datetime.now() #現在日時取得\n",
    "tomorrow = today + datetime.timedelta(days=1) #現在日時に＋１日のタイムデルタを加算\n",
    "tom_nth_dow = get_nth_dow(tomorrow.year, tomorrow.month, tomorrow.day) #明日の(第n週、X曜日)を取得\n",
    "\n",
    "print(\"today:\", today)\n",
    "print(\"tomorrow:\", tomorrow)\n",
    "print(\"tom_nth_dow:\", tom_nth_dow)"
   ]
  },
  {
   "cell_type": "code",
   "execution_count": 31,
   "id": "a2ba28ca",
   "metadata": {},
   "outputs": [
    {
     "name": "stdout",
     "output_type": "stream",
     "text": [
      "     0        1     2      3            4     5    6\n",
      "0  Mon      Tue   Wed  Thurs          Fri   Sat  Sun\n",
      "1       びん・缶・プラ  可燃ごみ         不燃ごみ・古紙・ペット  可燃ごみ     \n",
      "2       びん・缶・プラ  可燃ごみ         不燃ごみ・古紙・ペット  可燃ごみ     \n",
      "3       びん・缶・プラ  可燃ごみ         不燃ごみ・古紙・ペット  可燃ごみ     \n",
      "4       びん・缶・プラ  可燃ごみ         不燃ごみ・古紙・ペット  可燃ごみ     \n",
      "5       びん・缶・プラ  可燃ごみ         不燃ごみ・古紙・ペット  可燃ごみ     \n"
     ]
    }
   ],
   "source": [
    "import pandas as pd\n",
    "\n",
    "schedule=pd.DataFrame([\n",
    "[\"Mon\" ,\"Tue\"                 ,\"Wed\"        ,\"Thurs\" ,\"Fri\"                               ,\"Sat\"          , \"Sun\"],\n",
    "[\"\"        ,\"びん・缶・プラ\" ,\"可燃ごみ\"   ,\"\"         ,\"不燃ごみ・古紙・ペット\"  ,\"可燃ごみ\"   ,\"\"    ],\n",
    "[\"\"        ,\"びん・缶・プラ\" ,\"可燃ごみ\"   ,\"\"         ,\"不燃ごみ・古紙・ペット\"  ,\"可燃ごみ\"   ,\"\"    ],\n",
    "[\"\"        ,\"びん・缶・プラ\" ,\"可燃ごみ\"   ,\"\"         ,\"不燃ごみ・古紙・ペット\"  ,\"可燃ごみ\"   ,\"\"    ],\n",
    "[\"\"        ,\"びん・缶・プラ\" ,\"可燃ごみ\"   ,\"\"         ,\"不燃ごみ・古紙・ペット\"  ,\"可燃ごみ\"   ,\"\"    ],\n",
    "[\"\"        ,\"びん・缶・プラ\" ,\"可燃ごみ\"   ,\"\"         ,\"不燃ごみ・古紙・ペット\"  ,\"可燃ごみ\"   ,\"\"   ],\n",
    "])\n",
    "print(schedule)"
   ]
  },
  {
   "cell_type": "code",
   "execution_count": 80,
   "id": "4f658f2f",
   "metadata": {},
   "outputs": [
    {
     "name": "stdout",
     "output_type": "stream",
     "text": [
      "{1: 'null', 2: 'カズくん', 3: 'りょうすけくん', 4: 'null', 5: 'null', 6: 'しょうこちゃん', 7: 'null', 8: 'null', 9: 'ゆっこ', 10: 'ひろき', 11: '仲ちゃん', 12: 'りなりー', 13: 'りゅうき', 14: 'ももちゃん', 15: '江間ちゃん', 16: 'クレア', 17: 'しょうごくん', 18: 'もりりん'}\n",
      "{18: 'もりりん'}\n",
      "2\n"
     ]
    }
   ],
   "source": [
    "#住人一覧取得\n",
    "member = {}\n",
    "with open(\"roof_member.txt\") as f:\n",
    "    for line in f:\n",
    "       (k, v) = line.split()\n",
    "       member[int(k)] = v\n",
    "print(member)\n",
    "\n",
    "#最後の担当者取得\n",
    "latest_member = {}\n",
    "with open(\"tmp/latest_member.txt\") as f:\n",
    "    for line in f:\n",
    "       (k, v) = line.split()\n",
    "       latest_member[int(k)] = v\n",
    "        \n",
    "for key in latest_member.keys():\n",
    "    latest_member_num = key\n",
    "\n",
    "#次の担当者\n",
    "next_num = latest_member_num + 1\n",
    "if next_num == 19:\n",
    "    next_num = 1\n",
    "next_name = member.get(next_num)\n",
    "\n",
    "while next_num <= 18 and next_name == 'null':\n",
    "    next_num += 1\n",
    "    next_name = member.get(next_num)\n",
    "else:\n",
    "    print(next_num)"
   ]
  },
  {
   "cell_type": "code",
   "execution_count": 46,
   "id": "c204d6c6",
   "metadata": {},
   "outputs": [
    {
     "name": "stdout",
     "output_type": "stream",
     "text": [
      "明日は第3土曜日\n",
      "可燃ごみ回収の日です\n",
      "<Response [200]>\n"
     ]
    },
    {
     "ename": "NameError",
     "evalue": "name 'name' is not defined",
     "output_type": "error",
     "traceback": [
      "\u001b[0;31m---------------------------------------------------------------------------\u001b[0m",
      "\u001b[0;31mNameError\u001b[0m                                 Traceback (most recent call last)",
      "Input \u001b[0;32mIn [46]\u001b[0m, in \u001b[0;36m<cell line: 15>\u001b[0;34m()\u001b[0m\n\u001b[1;32m     17\u001b[0m \u001b[38;5;28;01melse\u001b[39;00m: \n\u001b[1;32m     18\u001b[0m     send_line(text2 \u001b[38;5;241m+\u001b[39m text3)\n\u001b[0;32m---> 19\u001b[0m     room_num \u001b[38;5;241m=\u001b[39m [k \u001b[38;5;28;01mfor\u001b[39;00m k, v \u001b[38;5;129;01min\u001b[39;00m member\u001b[38;5;241m.\u001b[39mitems() \u001b[38;5;28;01mif\u001b[39;00m v \u001b[38;5;241m==\u001b[39m name]\n\u001b[1;32m     20\u001b[0m     room_num \u001b[38;5;241m=\u001b[39m room_num[\u001b[38;5;241m0\u001b[39m]\n\u001b[1;32m     21\u001b[0m     room_num \u001b[38;5;241m+\u001b[39m\u001b[38;5;241m=\u001b[39m \u001b[38;5;241m1\u001b[39m\n",
      "Input \u001b[0;32mIn [46]\u001b[0m, in \u001b[0;36m<listcomp>\u001b[0;34m(.0)\u001b[0m\n\u001b[1;32m     17\u001b[0m \u001b[38;5;28;01melse\u001b[39;00m: \n\u001b[1;32m     18\u001b[0m     send_line(text2 \u001b[38;5;241m+\u001b[39m text3)\n\u001b[0;32m---> 19\u001b[0m     room_num \u001b[38;5;241m=\u001b[39m [k \u001b[38;5;28;01mfor\u001b[39;00m k, v \u001b[38;5;129;01min\u001b[39;00m member\u001b[38;5;241m.\u001b[39mitems() \u001b[38;5;28;01mif\u001b[39;00m v \u001b[38;5;241m==\u001b[39m \u001b[43mname\u001b[49m]\n\u001b[1;32m     20\u001b[0m     room_num \u001b[38;5;241m=\u001b[39m room_num[\u001b[38;5;241m0\u001b[39m]\n\u001b[1;32m     21\u001b[0m     room_num \u001b[38;5;241m+\u001b[39m\u001b[38;5;241m=\u001b[39m \u001b[38;5;241m1\u001b[39m\n",
      "\u001b[0;31mNameError\u001b[0m: name 'name' is not defined"
     ]
    }
   ],
   "source": [
    "date_jp = ['月','火','水','木','金',\"土\",'日']\n",
    "\n",
    "today = datetime.datetime.now()\n",
    "tomorrow = today + datetime.timedelta(days=1)\n",
    "tom_nth_dow = get_nth_dow(tomorrow.year, tomorrow.month, tomorrow.day)\n",
    "date_check = schedule.iat[tom_nth_dow]\n",
    "\n",
    "print(\"明日は第\"+str(tom_nth_dow[0])+date_jp[tom_nth_dow[1]]+\"曜日\")\n",
    "print(date_check+\"回収の日です\")\n",
    "\n",
    "text1 = \"第\"+str(tom_nth_dow[0])+date_jp[tom_nth_dow[1]]+\"曜日\"\n",
    "text2 = \"\\n明日は\"+text1+\"で、\\n\"+date_check+\"収集の日です！\\n\\n\" \n",
    "text3 = \"担当は\"+next_name+\"だよ〜！\\nよろしくね◎\"\n",
    "\n",
    "if date_check ==\"\":\n",
    "    print(\"明日のゴミ出しは有りません\")\n",
    "else: \n",
    "    send_line(text2 + text3)\n",
    "    room_num = [k for k, v in member.items() if v == name]\n",
    "    room_num = room_num[0]\n",
    "    room_num += 1\n",
    "    print(room_num)"
   ]
  },
  {
   "cell_type": "code",
   "execution_count": 39,
   "id": "648d78aa",
   "metadata": {},
   "outputs": [],
   "source": [
    "def main():\n",
    "    user_id = api['userid'] #IDを取得\n",
    "    messages = TextSendMessage(text=text2 + text3) #LINEに送付するメッセージ\n",
    "    bot_api.push_message(user_id, messages=messages)\n",
    "    \n",
    "main() "
   ]
  },
  {
   "cell_type": "code",
   "execution_count": 40,
   "id": "e53529f2",
   "metadata": {},
   "outputs": [],
   "source": [
    "#次の担当者ファイル書き込み\n",
    "try:\n",
    "    with open('latest_member.txt', 'w') as f:\n",
    "        print(next_num, next_name, sep=' ', file=f)\n",
    "except Exception as e:\n",
    "    print(e)\n",
    "finally:\n",
    "    file.close()"
   ]
  },
  {
   "cell_type": "code",
   "execution_count": 99,
   "id": "3f307bef",
   "metadata": {},
   "outputs": [
    {
     "name": "stdout",
     "output_type": "stream",
     "text": [
      "<gspread.client.Client object at 0x121b26e20>\n"
     ]
    },
    {
     "ename": "TypeError",
     "evalue": "'int' object is not iterable",
     "output_type": "error",
     "traceback": [
      "\u001b[0;31m---------------------------------------------------------------------------\u001b[0m",
      "\u001b[0;31mTypeError\u001b[0m                                 Traceback (most recent call last)",
      "Input \u001b[0;32mIn [99]\u001b[0m, in \u001b[0;36m<cell line: 21>\u001b[0;34m()\u001b[0m\n\u001b[1;32m     19\u001b[0m latest_num \u001b[38;5;241m=\u001b[39m \u001b[38;5;28mint\u001b[39m(latest_num[\u001b[38;5;241m0\u001b[39m]) \u001b[38;5;66;03m#int型\u001b[39;00m\n\u001b[1;32m     20\u001b[0m latest_name \u001b[38;5;241m=\u001b[39m latest_member_sheet\u001b[38;5;241m.\u001b[39msheet1\u001b[38;5;241m.\u001b[39mcol_values(\u001b[38;5;241m2\u001b[39m) \u001b[38;5;66;03m#list 名前\u001b[39;00m\n\u001b[0;32m---> 21\u001b[0m latest_member \u001b[38;5;241m=\u001b[39m \u001b[38;5;28mdict\u001b[39m(\u001b[38;5;28;43mzip\u001b[39;49m\u001b[43m(\u001b[49m\u001b[43mlatest_num\u001b[49m\u001b[43m,\u001b[49m\u001b[43m \u001b[49m\u001b[43mlatest_name\u001b[49m\u001b[43m)\u001b[49m) \u001b[38;5;66;03m#listからdictに変換\u001b[39;00m\n\u001b[1;32m     24\u001b[0m \u001b[38;5;28mprint\u001b[39m(latest_member)\n\u001b[1;32m     25\u001b[0m \u001b[38;5;28mprint\u001b[39m(latest_num)\n",
      "\u001b[0;31mTypeError\u001b[0m: 'int' object is not iterable"
     ]
    }
   ],
   "source": [
    "import gspread\n",
    "import numpy as np\n",
    "\n",
    "# サービスアカウントキーファイルの読み込み\n",
    "gspread_client = gspread.service_account(filename=\"./roof-dev-trash-a3e80ece4449.json\")\n",
    "print(gspread_client)\n",
    "\n",
    "# Google スプレッドシートを開く\n",
    "#メンバー一覧取得\n",
    "member_sheet = gspread_client.open(\"roof_member\")\n",
    "num = member_sheet.sheet1.col_values(1) #list 部屋番号(データ型)\n",
    "num = list(map(int, num)) #int型に変換、かつlistにする\n",
    "name = member_sheet.sheet1.col_values(2) #list 名前\n",
    "member = dict(zip(num,name)) #listからdictに変換\n",
    "\n",
    "#最後の担当者取得\n",
    "latest_member_sheet = gspread_client.open(\"latest_member\")\n",
    "latest_num = latest_member_sheet.sheet1.col_values(1) #list 部屋番号(データ型)\n",
    "latest_num = latest_num[0] #list外す\n",
    "latest_name = latest_member_sheet.sheet1.col_values(2) #list 名前\n",
    "latest_member = dict(zip(latest_num, latest_name)) #listからdictに変換\n",
    "latest_num = int(latest_num) #int型\n",
    "\n",
    "#\n",
    "\n",
    "# row_num = 1\n",
    "# while row_num <= 18:\n",
    "#     rows = member_sheet.sheet1.row_values(row_num)\n",
    "#     print(rows)\n",
    "#     row_num += 1\n",
    "    \n",
    "# num = member_sheet.sheet1.cell(row_num,1).value\n",
    "# name = member_sheet.sheet1.cell(row_num,2).value\n",
    "\n",
    "# print(int(num))\n",
    "# print(name)"
   ]
  },
  {
   "cell_type": "code",
   "execution_count": null,
   "id": "006ef227",
   "metadata": {},
   "outputs": [],
   "source": []
  },
  {
   "cell_type": "code",
   "execution_count": null,
   "id": "e54e9682",
   "metadata": {},
   "outputs": [],
   "source": []
  }
 ],
 "metadata": {
  "kernelspec": {
   "display_name": "Python 3 (ipykernel)",
   "language": "python",
   "name": "python3"
  },
  "language_info": {
   "codemirror_mode": {
    "name": "ipython",
    "version": 3
   },
   "file_extension": ".py",
   "mimetype": "text/x-python",
   "name": "python",
   "nbconvert_exporter": "python",
   "pygments_lexer": "ipython3",
   "version": "3.9.12"
  }
 },
 "nbformat": 4,
 "nbformat_minor": 5
}
