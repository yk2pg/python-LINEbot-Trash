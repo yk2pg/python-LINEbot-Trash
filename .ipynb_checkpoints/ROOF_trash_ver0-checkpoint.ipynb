{
 "cells": [
  {
   "cell_type": "code",
   "execution_count": 1,
   "id": "28a0de26",
   "metadata": {},
   "outputs": [
    {
     "name": "stdout",
     "output_type": "stream",
     "text": [
      "<Response [200]>\n"
     ]
    }
   ],
   "source": [
    "import requests\n",
    "\n",
    "def send_line(text):\n",
    "    url ='https://notify-api.line.me/api/notify'\n",
    "    token = \"9fz9AoX9OnPNW2KGo2jFoYIbg8fMrMBl6KPWJXuXAi6\"\n",
    "    headers ={'Authorization' : 'Bearer ' + token}\n",
    "    message = text\n",
    "    payload = {'message' : message}\n",
    "    p = requests.post(url, headers=headers, data=payload)\n",
    "    print(p)\n"
   ]
  },
  {
   "cell_type": "code",
   "execution_count": 2,
   "id": "06dc3dad",
   "metadata": {},
   "outputs": [
    {
     "name": "stdout",
     "output_type": "stream",
     "text": [
      "today: 2022-06-13 00:31:51.315530\n",
      "tomorrow: 2022-06-14 00:31:51.315530\n",
      "tom_nth_dow: (2, 1)\n"
     ]
    }
   ],
   "source": [
    "import calendar\n",
    "import datetime\n",
    "\n",
    "def get_nth_week(day):\n",
    "    return (day - 1) // 7 + 1\n",
    "\n",
    "def get_nth_dow(year, month, day):\n",
    "    return get_nth_week(day), calendar.weekday(year, month, day)\n",
    "\n",
    "today = datetime.datetime.now() #現在日時取得\n",
    "tomorrow = today + datetime.timedelta(days=1) #現在日時に＋１日のタイムデルタを加算\n",
    "tom_nth_dow = get_nth_dow(tomorrow.year, tomorrow.month, tomorrow.day) #明日の(第n週、X曜日)を取得\n",
    "\n",
    "print(\"today:\", today)\n",
    "print(\"tomorrow:\", tomorrow)\n",
    "print(\"tom_nth_dow:\", tom_nth_dow)"
   ]
  },
  {
   "cell_type": "code",
   "execution_count": 4,
   "id": "a2ba28ca",
   "metadata": {},
   "outputs": [
    {
     "name": "stdout",
     "output_type": "stream",
     "text": [
      "     0        1     2      3            4     5    6\n",
      "0  Mon      Tue   Wed  Thurs          Fri   Sat  Sun\n",
      "1       びん・缶・プラ  可燃ごみ         不燃ごみ・古紙・ペット  可燃ごみ     \n",
      "2       びん・缶・プラ  可燃ごみ         不燃ごみ・古紙・ペット  可燃ごみ     \n",
      "3       びん・缶・プラ  可燃ごみ         不燃ごみ・古紙・ペット  可燃ごみ     \n",
      "4       びん・缶・プラ  可燃ごみ         不燃ごみ・古紙・ペット  可燃ごみ     \n",
      "5       びん・缶・プラ  可燃ごみ         不燃ごみ・古紙・ペット  可燃ごみ     \n"
     ]
    }
   ],
   "source": [
    "import pandas as pd\n",
    "\n",
    "schedule=pd.DataFrame([\n",
    "[\"Mon\" ,\"Tue\"                 ,\"Wed\"        ,\"Thurs\" ,\"Fri\"                               ,\"Sat\"          , \"Sun\"],\n",
    "[\"\"        ,\"びん・缶・プラ\" ,\"可燃ごみ\"   ,\"\"         ,\"不燃ごみ・古紙・ペット\"  ,\"可燃ごみ\"   ,\"\"    ],\n",
    "[\"\"        ,\"びん・缶・プラ\" ,\"可燃ごみ\"   ,\"\"         ,\"不燃ごみ・古紙・ペット\"  ,\"可燃ごみ\"   ,\"\"    ],\n",
    "[\"\"        ,\"びん・缶・プラ\" ,\"可燃ごみ\"   ,\"\"         ,\"不燃ごみ・古紙・ペット\"  ,\"可燃ごみ\"   ,\"\"    ],\n",
    "[\"\"        ,\"びん・缶・プラ\" ,\"可燃ごみ\"   ,\"\"         ,\"不燃ごみ・古紙・ペット\"  ,\"可燃ごみ\"   ,\"\"    ],\n",
    "[\"\"        ,\"びん・缶・プラ\" ,\"可燃ごみ\"   ,\"\"         ,\"不燃ごみ・古紙・ペット\"  ,\"可燃ごみ\"   ,\"\"   ],\n",
    "])\n",
    "print(schedule)"
   ]
  },
  {
   "cell_type": "code",
   "execution_count": 78,
   "id": "45fe118c",
   "metadata": {},
   "outputs": [
    {
     "name": "stdout",
     "output_type": "stream",
     "text": [
      "カズくん\n",
      "3\n"
     ]
    }
   ],
   "source": [
    "member={1 : \"\", 2 : \"カズくん\", 3 : \"りょうすけくん\", 4 : \"\", 5 : \"\",\n",
    "6 : \"しょうこちゃん\", 7 : \"\", 8 : \"\", 9 : \"ゆっこ\", 10 : \"ひろき\",\n",
    "11 : \"仲ちゃん\", 12 : \"りなりー\", 13 : \"りゅうき\", 14 : \"ももちゃん\", 15 : \"江間ちゃん\",\n",
    "16 : \"クレア\", 17 : \"しょうごくん\", 18 : \"もりりん\"}\n",
    "\n",
    "room_num = 1\n",
    "name = member.get(room_num)\n",
    "while room_num <= 18 and not name:\n",
    "    room_num += 1\n",
    "    name = member.get(room_num)\n",
    "    if name:\n",
    "        print(name)\n",
    "        break\n",
    "else:\n",
    "    print(name)\n"
   ]
  },
  {
   "cell_type": "code",
   "execution_count": 55,
   "id": "4f658f2f",
   "metadata": {},
   "outputs": [
    {
     "name": "stdout",
     "output_type": "stream",
     "text": [
      "None\n"
     ]
    }
   ],
   "source": [
    "#住人一覧取得\n",
    "member = {}\n",
    "with open(\"roof_member.txt\") as f:\n",
    "    for line in f:\n",
    "       (k, v) = line.split()\n",
    "       member[int(k)] = v\n",
    "\n",
    "#最後の担当者取得\n",
    "latest_member = {}\n",
    "with open(\"latest_member.txt\") as f:\n",
    "    for line in f:\n",
    "       (k, v) = line.split()\n",
    "       latest_member[int(k)] = v\n",
    "        \n",
    "for key in latest_member.keys():\n",
    "    latest_member_num = key\n",
    "\n",
    "#次の担当者\n",
    "next_num = latest_member_num + 1\n",
    "next_name = member.get(next_num)\n",
    "\n",
    "if next_num == 19:\n",
    "    next_num = 1\n",
    "\n",
    "while next_num <= 18 and next_name == 'null':\n",
    "    next_num += 1\n",
    "    next_name = member.get(next_num)\n",
    "else:\n",
    "    print(next_name)"
   ]
  },
  {
   "cell_type": "code",
   "execution_count": 12,
   "id": "c204d6c6",
   "metadata": {},
   "outputs": [
    {
     "ename": "NameError",
     "evalue": "name 'schedule' is not defined",
     "output_type": "error",
     "traceback": [
      "\u001b[0;31m---------------------------------------------------------------------------\u001b[0m",
      "\u001b[0;31mNameError\u001b[0m                                 Traceback (most recent call last)",
      "Input \u001b[0;32mIn [12]\u001b[0m, in \u001b[0;36m<cell line: 2>\u001b[0;34m()\u001b[0m\n\u001b[1;32m      1\u001b[0m date_jp \u001b[38;5;241m=\u001b[39m [\u001b[38;5;124m'\u001b[39m\u001b[38;5;124m月\u001b[39m\u001b[38;5;124m'\u001b[39m,\u001b[38;5;124m'\u001b[39m\u001b[38;5;124m火\u001b[39m\u001b[38;5;124m'\u001b[39m,\u001b[38;5;124m'\u001b[39m\u001b[38;5;124m水\u001b[39m\u001b[38;5;124m'\u001b[39m,\u001b[38;5;124m'\u001b[39m\u001b[38;5;124m木\u001b[39m\u001b[38;5;124m'\u001b[39m,\u001b[38;5;124m'\u001b[39m\u001b[38;5;124m金\u001b[39m\u001b[38;5;124m'\u001b[39m,\u001b[38;5;124m\"\u001b[39m\u001b[38;5;124m土\u001b[39m\u001b[38;5;124m\"\u001b[39m,\u001b[38;5;124m'\u001b[39m\u001b[38;5;124m日\u001b[39m\u001b[38;5;124m'\u001b[39m]\n\u001b[0;32m----> 2\u001b[0m date_check \u001b[38;5;241m=\u001b[39m \u001b[43mschedule\u001b[49m\u001b[38;5;241m.\u001b[39miat[tom_nth_dow]\n\u001b[1;32m      3\u001b[0m \u001b[38;5;28mprint\u001b[39m(\u001b[38;5;124m\"\u001b[39m\u001b[38;5;124m明日は第\u001b[39m\u001b[38;5;124m\"\u001b[39m\u001b[38;5;241m+\u001b[39m\u001b[38;5;28mstr\u001b[39m(tom_nth_dow[\u001b[38;5;241m0\u001b[39m])\u001b[38;5;241m+\u001b[39mdate_jp[tom_nth_dow[\u001b[38;5;241m1\u001b[39m]]\u001b[38;5;241m+\u001b[39m\u001b[38;5;124m\"\u001b[39m\u001b[38;5;124m曜日\u001b[39m\u001b[38;5;124m\"\u001b[39m)\n\u001b[1;32m      4\u001b[0m \u001b[38;5;28mprint\u001b[39m(date_check\u001b[38;5;241m+\u001b[39m\u001b[38;5;124m\"\u001b[39m\u001b[38;5;124m回収の日です\u001b[39m\u001b[38;5;124m\"\u001b[39m)\n",
      "\u001b[0;31mNameError\u001b[0m: name 'schedule' is not defined"
     ]
    }
   ],
   "source": [
    "date_jp = ['月','火','水','木','金',\"土\",'日']\n",
    "date_check = schedule.iat[tom_nth_dow]\n",
    "print(\"明日は第\"+str(tom_nth_dow[0])+date_jp[tom_nth_dow[1]]+\"曜日\")\n",
    "print(date_check+\"回収の日です\")\n",
    "\n",
    "\n",
    "date_jp = ['月','火','水','木','金',\"土\",'日']\n",
    "\n",
    "today = datetime.datetime.now()\n",
    "tomorrow = today + datetime.timedelta(days=1)\n",
    "tom_nth_dow = get_nth_dow(tomorrow.year, tomorrow.month, tomorrow.day)\n",
    "date_check = schedule.iat[tom_nth_dow]\n",
    "\n",
    "text1 = \"第\"+str(tom_nth_dow[0])+date_jp[tom_nth_dow[1]]+\"曜日\"\n",
    "text2 = \"\\n明日は\"+text1+\"で、\\n\"+date_check+\"収集の日です！\\n\\n\" \n",
    "text3 = \"担当は\"+name+\"だよ〜！\\nよろしくね◎\"\n",
    "\n",
    "if date_check ==\"\":\n",
    "    print(\"明日のゴミ出しは有りません\")\n",
    "    room_num = [k for k, v in member.items() if v == name]\n",
    "    room_num = room_num[0]\n",
    "    print(room_num)\n",
    "else: \n",
    "    send_line(text2 + text3)\n",
    "    room_num = [k for k, v in member.items() if v == name]\n",
    "    room_num = room_num[0]\n",
    "    room_num += 1\n",
    "    print(room_num)"
   ]
  },
  {
   "cell_type": "code",
   "execution_count": null,
   "id": "648d78aa",
   "metadata": {},
   "outputs": [],
   "source": []
  }
 ],
 "metadata": {
  "kernelspec": {
   "display_name": "Python 3 (ipykernel)",
   "language": "python",
   "name": "python3"
  },
  "language_info": {
   "codemirror_mode": {
    "name": "ipython",
    "version": 3
   },
   "file_extension": ".py",
   "mimetype": "text/x-python",
   "name": "python",
   "nbconvert_exporter": "python",
   "pygments_lexer": "ipython3",
   "version": "3.9.12"
  }
 },
 "nbformat": 4,
 "nbformat_minor": 5
}
